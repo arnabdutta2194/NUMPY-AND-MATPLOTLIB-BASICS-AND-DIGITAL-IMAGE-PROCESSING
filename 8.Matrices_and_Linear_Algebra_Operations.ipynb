{
 "cells": [
  {
   "cell_type": "markdown",
   "metadata": {},
   "source": [
    "# Dot Product"
   ]
  },
  {
   "cell_type": "code",
   "execution_count": 2,
   "metadata": {},
   "outputs": [
    {
     "name": "stdout",
     "output_type": "stream",
     "text": [
      "50\n"
     ]
    }
   ],
   "source": [
    "import numpy as np\n",
    "print(np.dot(10,5))"
   ]
  },
  {
   "cell_type": "code",
   "execution_count": 5,
   "metadata": {},
   "outputs": [
    {
     "name": "stdout",
     "output_type": "stream",
     "text": [
      "34\n"
     ]
    }
   ],
   "source": [
    "a=np.array([2,4],np.uint8)\n",
    "b=np.array([5,6],np.uint8)\n",
    "print(np.dot(a,b))"
   ]
  },
  {
   "cell_type": "code",
   "execution_count": 6,
   "metadata": {},
   "outputs": [
    {
     "name": "stdout",
     "output_type": "stream",
     "text": [
      "[[46 24]\n",
      " [97 54]]\n"
     ]
    }
   ],
   "source": [
    "a=np.array([[2,4],[5,8]],np.uint8)\n",
    "b=np.array([[5,6],[9,3]],np.uint8)\n",
    "print(np.dot(a,b))"
   ]
  },
  {
   "cell_type": "markdown",
   "metadata": {},
   "source": [
    "# Vector Dot Product"
   ]
  },
  {
   "cell_type": "code",
   "execution_count": 7,
   "metadata": {},
   "outputs": [
    {
     "name": "stdout",
     "output_type": "stream",
     "text": [
      "11\n"
     ]
    }
   ],
   "source": [
    "a=np.array([1,2])\n",
    "b=np.array([3,4])\n",
    "print(np.vdot(a,b))"
   ]
  },
  {
   "cell_type": "code",
   "execution_count": 9,
   "metadata": {},
   "outputs": [
    {
     "name": "stdout",
     "output_type": "stream",
     "text": [
      "(52-16j)\n",
      "(52+16j)\n"
     ]
    }
   ],
   "source": [
    "a=np.array([1+5j,2+3j])\n",
    "b=np.array([3+7j,4+2j])\n",
    "print(np.vdot(a,b))\n",
    "print(np.vdot(b,a))"
   ]
  },
  {
   "cell_type": "markdown",
   "metadata": {},
   "source": [
    "# Inner Product"
   ]
  },
  {
   "cell_type": "code",
   "execution_count": 10,
   "metadata": {},
   "outputs": [
    {
     "name": "stdout",
     "output_type": "stream",
     "text": [
      "12\n"
     ]
    }
   ],
   "source": [
    "a=np.array([1,2,3,4,5,6])\n",
    "b=np.array([0,1,0,1,0,1])\n",
    "print(np.inner(a,b))"
   ]
  },
  {
   "cell_type": "code",
   "execution_count": 11,
   "metadata": {},
   "outputs": [
    {
     "name": "stdout",
     "output_type": "stream",
     "text": [
      "[[ 2  4]\n",
      " [ 5 10]]\n"
     ]
    }
   ],
   "source": [
    "a=np.array([[1,2,3],[4,5,6]])\n",
    "b=np.array([[0,1,0],[1,0,1]])\n",
    "print(np.inner(a,b))"
   ]
  },
  {
   "cell_type": "markdown",
   "metadata": {},
   "source": [
    "# QR Decomposition"
   ]
  },
  {
   "cell_type": "code",
   "execution_count": 12,
   "metadata": {},
   "outputs": [
    {
     "name": "stdout",
     "output_type": "stream",
     "text": [
      "[[0.24869226 0.93387471 0.20125107]\n",
      " [0.2165432  0.83464311 0.9192979 ]\n",
      " [0.03614938 0.86361925 0.78420099]]\n"
     ]
    }
   ],
   "source": [
    "a=np.random.rand(3,3)\n",
    "print(a)"
   ]
  },
  {
   "cell_type": "code",
   "execution_count": 13,
   "metadata": {},
   "outputs": [
    {
     "name": "stdout",
     "output_type": "stream",
     "text": [
      "q= [[-0.74968009 -0.09690171 -0.65466772]\n",
      " [-0.6527671  -0.05461425  0.75558745]\n",
      " [-0.1089719   0.99379442 -0.02231103]] \n",
      "\n",
      " r= [[-0.33173118 -1.33904507 -0.83641722]\n",
      " [ 0.          0.72218252  0.70962622]\n",
      " [ 0.          0.          0.54536104]] \n",
      "\n",
      "[[0.24869226 0.93387471 0.20125107]\n",
      " [0.2165432  0.83464311 0.9192979 ]\n",
      " [0.03614938 0.86361925 0.78420099]]\n"
     ]
    }
   ],
   "source": [
    "q,r=np.linalg.qr(a)\n",
    "print('q=',q,'\\n\\n r=',r,'\\n')\n",
    "print(np.dot(q,r))"
   ]
  },
  {
   "cell_type": "markdown",
   "metadata": {},
   "source": [
    "# Determinant and Solving Linear Equations"
   ]
  },
  {
   "cell_type": "code",
   "execution_count": 15,
   "metadata": {},
   "outputs": [
    {
     "name": "stdout",
     "output_type": "stream",
     "text": [
      "1.9999999999999971\n"
     ]
    }
   ],
   "source": [
    "a=np.array([[5,6],[3,4]])\n",
    "print(np.linalg.det(a))"
   ]
  },
  {
   "cell_type": "code",
   "execution_count": 16,
   "metadata": {},
   "outputs": [
    {
     "name": "stdout",
     "output_type": "stream",
     "text": [
      "[2.74285714 0.71428571 3.4       ]\n"
     ]
    }
   ],
   "source": [
    "a=np.array([[2,1,-3],[4,2,-1],[3,5,-2]],np.int16)\n",
    "b=np.array([-4,9,5],np.int16)\n",
    "x=np.linalg.solve(a,b)\n",
    "print(x)"
   ]
  },
  {
   "cell_type": "code",
   "execution_count": null,
   "metadata": {},
   "outputs": [],
   "source": []
  },
  {
   "cell_type": "code",
   "execution_count": null,
   "metadata": {},
   "outputs": [],
   "source": []
  }
 ],
 "metadata": {
  "kernelspec": {
   "display_name": "Python 3",
   "language": "python",
   "name": "python3"
  },
  "language_info": {
   "codemirror_mode": {
    "name": "ipython",
    "version": 3
   },
   "file_extension": ".py",
   "mimetype": "text/x-python",
   "name": "python",
   "nbconvert_exporter": "python",
   "pygments_lexer": "ipython3",
   "version": "3.7.0"
  }
 },
 "nbformat": 4,
 "nbformat_minor": 2
}
